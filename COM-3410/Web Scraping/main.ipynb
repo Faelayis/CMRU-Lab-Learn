{
  "cells": [
    {
      "cell_type": "code",
      "execution_count": null,
      "id": "60152789",
      "metadata": {},
      "outputs": [],
      "source": [
        "!pip install beautifulsoup4 pandas lxml Faker requests"
      ]
    },
    {
      "cell_type": "code",
      "execution_count": null,
      "id": "98620b72",
      "metadata": {},
      "outputs": [],
      "source": [
        "import requests\n",
        "import pandas as pd\n",
        "import re\n",
        "from bs4 import BeautifulSoup, Tag\n",
        "from faker import Faker\n",
        "\n",
        "\n",
        "class MALScraper:\n",
        "    def __init__(self):\n",
        "        self.session = requests.Session()\n",
        "        self.session.headers.update({'User-Agent': Faker().user_agent()})\n",
        "\n",
        "    def save_dataframe(self, dataframe, filepath):\n",
        "        dataframe.to_csv(filepath, index=False)\n",
        "\n",
        "    def get_seasonal_anime(self, year=2025, season='winter'):\n",
        "        url = f\"https://myanimelist.net/anime/season/{year}/{season}\"\n",
        "        soup = BeautifulSoup(self.session.get(url).content, 'html.parser')\n",
        "        items = soup.find_all('div', class_='seasonal-anime')[:50]\n",
        "\n",
        "        def create_dictionary(item):\n",
        "            def parse_title(element):\n",
        "                title = element.text.strip()\n",
        "                return title if title else None\n",
        "\n",
        "            def parse_score(element):\n",
        "                score = element.text.strip()\n",
        "                return float(score) if score and score != 'N/A' else None\n",
        "\n",
        "            def parse_members(element):\n",
        "                members = element.text.strip().replace(',', '')\n",
        "                return (\n",
        "                    int(float(members[:-1]) * 1_000_000) if members.endswith('M') else\n",
        "                    int(float(members[:-1]) * 1_000) if members.endswith('K') else\n",
        "                    int(members) if members.isdigit() else None\n",
        "                )\n",
        "\n",
        "            def parse_episodes(element):\n",
        "                episodes: re.Match[str] | None = re.search(\n",
        "                    r'(\\d+)\\s*eps?', element, re.I)\n",
        "                return int(episodes.group(1)) if episodes else None\n",
        "\n",
        "            return {\n",
        "                'title': parse_title(item.select_one('.h2_anime_title')),\n",
        "                'score': parse_score(item.select_one(selector='.score')),\n",
        "                'members': parse_members(item.select_one('.member')),\n",
        "                'episodes': parse_episodes(item.text)\n",
        "            }\n",
        "\n",
        "        data = list(filter(None, map(create_dictionary, items)))\n",
        "        dataframe = pd.DataFrame(data, index=range(1, len(data) + 1))\n",
        "\n",
        "        self.save_dataframe(dataframe, f'anime_{season}.csv')\n",
        "\n",
        "        return dataframe\n",
        "\n",
        "\n",
        "scraper = MALScraper()\n",
        "dataframe = scraper.get_seasonal_anime(2023, 'fall')\n",
        "print(f\"Found {len(dataframe)} anime\")\n",
        "dataframe"
      ]
    }
  ],
  "metadata": {
    "kernelspec": {
      "display_name": "Python 3",
      "language": "python",
      "name": "python3"
    },
    "language_info": {
      "codemirror_mode": {
        "name": "ipython",
        "version": 3
      },
      "file_extension": ".py",
      "mimetype": "text/x-python",
      "name": "python",
      "nbconvert_exporter": "python",
      "pygments_lexer": "ipython3",
      "version": "3.12.11"
    }
  },
  "nbformat": 4,
  "nbformat_minor": 5
}
